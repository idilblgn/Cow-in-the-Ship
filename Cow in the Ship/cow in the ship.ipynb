{
 "cells": [
  {
   "cell_type": "code",
   "execution_count": null,
   "id": "38ac3966-2c54-484e-876b-f01b33c23d2a",
   "metadata": {},
   "outputs": [
    {
     "name": "stdout",
     "output_type": "stream",
     "text": [
      "İnek Gemide!\n",
      "İnek Gemide!\n",
      "İnek Gemide!\n",
      "İnek Gemide!\n",
      "İnek Gemide!\n",
      "İnek Gemide!\n",
      "İnek Gemide!\n",
      "İnek Gemide!\n",
      "İnek Gemide!\n",
      "İnek Gemide!\n",
      "İnek Gemide!\n",
      "İnek Gemide!\n",
      "İnek Gemide!\n",
      "İnek Gemide!\n",
      "İnek Gemide!\n",
      "İnek Gemide!\n",
      "İnek Gemide!\n",
      "İnek Gemide!\n",
      "İnek Gemide!\n",
      "İnek Gemide!\n",
      "İnek Gemide!\n",
      "İnek Gemide!\n",
      "İnek Gemide!\n",
      "İnek Gemide!\n"
     ]
    }
   ],
   "source": [
    "import pygame\n",
    "import random\n",
    "\n",
    "pygame.init()\n",
    "\n",
    "pencere = pygame.display.set_mode((700,800))\n",
    "\n",
    "hız = 5\n",
    "fps = 165\n",
    "saat = pygame.time.Clock()\n",
    "ufo = pygame.image.load(\"ufo.png\")\n",
    "ufo_koordinat = ufo.get_rect()\n",
    "ufo_koordinat.topleft = (50,50)\n",
    "inek = pygame.image.load(\"cow (1).png\")\n",
    "inek_koordinat = inek.get_rect()\n",
    "inek_koordinat.topleft = (500,500)\n",
    "\n",
    "durum = True\n",
    "while durum:\n",
    "    for etkinlik in pygame.event.get():\n",
    "        if etkinlik.type == pygame.QUIT:\n",
    "            durum = False\n",
    "            \n",
    "    tus = pygame.key.get_pressed()\n",
    "    if tus[pygame.K_LEFT] and ufo_koordinat.left > 0:\n",
    "        ufo_koordinat.x -= hız\n",
    "\n",
    "    elif tus[pygame.K_RIGHT] and ufo_koordinat.right < 700:\n",
    "        ufo_koordinat.x += hız\n",
    "\n",
    "    elif tus[pygame.K_UP] and ufo_koordinat.top > 0:\n",
    "        ufo_koordinat.y -= hız\n",
    "\n",
    "    elif tus[pygame.K_DOWN] and ufo_koordinat.bottom < 800:\n",
    "        ufo_koordinat.y += hız\n",
    "        \n",
    "        \n",
    "    pencere.fill((0,0,0))\n",
    "    pygame.draw.rect(pencere,(255,0,0), ufo_koordinat, 1) \n",
    "    pygame.draw.rect(pencere,(255,0,0), inek_koordinat, 1) \n",
    "    if ufo_koordinat.colliderect(inek_koordinat):\n",
    "        print(\"İnek Gemide!\")\n",
    "        inek_koordinat.x = random.randint(0,700-32)\n",
    "        inek_koordinat.y = random.randint(0,800-32)\n",
    "    pencere.blit(ufo,ufo_koordinat)\n",
    "    pencere.blit(inek,inek_koordinat)\n",
    "    pygame.display.update()\n",
    "    saat.tick(fps)\n",
    "\n",
    "\n",
    "\n",
    "pygame.quit()\n"
   ]
  }
 ],
 "metadata": {
  "kernelspec": {
   "display_name": "Python 3 (ipykernel)",
   "language": "python",
   "name": "python3"
  },
  "language_info": {
   "codemirror_mode": {
    "name": "ipython",
    "version": 3
   },
   "file_extension": ".py",
   "mimetype": "text/x-python",
   "name": "python",
   "nbconvert_exporter": "python",
   "pygments_lexer": "ipython3",
   "version": "3.11.7"
  }
 },
 "nbformat": 4,
 "nbformat_minor": 5
}
